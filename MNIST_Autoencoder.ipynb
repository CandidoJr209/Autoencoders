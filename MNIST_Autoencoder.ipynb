{
  "nbformat": 4,
  "nbformat_minor": 0,
  "metadata": {
    "colab": {
      "name": "MNIST_Autoencoder_2.ipynb",
      "provenance": [],
      "collapsed_sections": [],
      "authorship_tag": "ABX9TyMpCHb5XO/MGJTAhZtE6UeR",
      "include_colab_link": true
    },
    "kernelspec": {
      "name": "python3",
      "display_name": "Python 3"
    },
    "language_info": {
      "name": "python"
    }
  },
  "cells": [
    {
      "cell_type": "markdown",
      "metadata": {
        "id": "view-in-github",
        "colab_type": "text"
      },
      "source": [
        "<a href=\"https://colab.research.google.com/github/CandidoJr209/Autoencoders/blob/main/MNIST_Autoencoder_2.ipynb\" target=\"_parent\"><img src=\"https://colab.research.google.com/assets/colab-badge.svg\" alt=\"Open In Colab\"/></a>"
      ]
    },
    {
      "cell_type": "code",
      "metadata": {
        "id": "zJI8IQhZdE95"
      },
      "source": [
        "from keras.models import Model\n",
        "from keras.layers import Dense, Input\n",
        "from keras.datasets import mnist\n",
        "import numpy as np\n",
        "import matplotlib.pyplot as plt"
      ],
      "execution_count": null,
      "outputs": []
    },
    {
      "cell_type": "markdown",
      "metadata": {
        "id": "-NQ5BaH7pmhS"
      },
      "source": [
        "For this example we'll use the MNIST dataset. We'll load the dataset than normalize and finally turn the images into a single vector so we can feed the neural network easier"
      ]
    },
    {
      "cell_type": "code",
      "metadata": {
        "id": "sm-zllVifoRG"
      },
      "source": [
        "(x_train, _),(x_test, _) = mnist.load_data()"
      ],
      "execution_count": null,
      "outputs": []
    },
    {
      "cell_type": "code",
      "metadata": {
        "colab": {
          "base_uri": "https://localhost:8080/"
        },
        "id": "JohrXD4bf3R4",
        "outputId": "5c62e4ba-17d8-474d-8028-9c5661263eb4"
      },
      "source": [
        "# Get image size\n",
        "size_image = np.prod(x_train.shape[1:])\n",
        "\n",
        "# Normalize data\n",
        "x_train = x_train/255\n",
        "x_test = x_test/255\n",
        "\n",
        "# Reshape data\n",
        "x_train = x_train.reshape(len(x_train), size_image)\n",
        "x_test = x_test.reshape(len(x_test), size_image)\n",
        "\n",
        "print(f'x_train shape = {x_train.shape}')\n",
        "print(f'x_test shape = {x_test.shape}')"
      ],
      "execution_count": null,
      "outputs": [
        {
          "output_type": "stream",
          "text": [
            "x_train shape = (60000, 784)\n",
            "x_test shape = (10000, 784)\n"
          ],
          "name": "stdout"
        }
      ]
    },
    {
      "cell_type": "markdown",
      "metadata": {
        "id": "dCZS7M00qLMW"
      },
      "source": [
        "Now that we have the dataset ready let's build our model"
      ]
    },
    {
      "cell_type": "code",
      "metadata": {
        "id": "yli3ckWbdff0"
      },
      "source": [
        "encoding_dim = 64 # Define the dimentions of the compressed vector\n",
        "input_img = Input(shape=(784,)) # Define input shape\n",
        "encoded = Dense(encoding_dim, activation='relu')(input_img)  # Compress\n",
        "decoded = Dense(784,activation='sigmoid')(encoded)  #  Decompress\n",
        "\n",
        "autoencoder = Model(input_img, decoded)  # Define autoencoder model\n",
        "encoder = Model(input_img, encoded) # Define encoder model\n",
        "\n",
        "encoded_input = Input(shape=(encoding_dim,)) # Define input layer of decoder\n",
        "decoder_layer = autoencoder.layers[-1]  # Define decoder output\n",
        "decoder = Model(encoded_input, decoder_layer(encoded_input))  # Define decoder model"
      ],
      "execution_count": null,
      "outputs": []
    },
    {
      "cell_type": "code",
      "metadata": {
        "colab": {
          "base_uri": "https://localhost:8080/"
        },
        "id": "35RktuKhfW8O",
        "outputId": "148ea9a2-eb0d-4113-a030-49cf3dab95fd"
      },
      "source": [
        "autoencoder.summary()"
      ],
      "execution_count": null,
      "outputs": [
        {
          "output_type": "stream",
          "text": [
            "Model: \"model_24\"\n",
            "_________________________________________________________________\n",
            "Layer (type)                 Output Shape              Param #   \n",
            "=================================================================\n",
            "input_15 (InputLayer)        [(None, 784)]             0         \n",
            "_________________________________________________________________\n",
            "dense_16 (Dense)             (None, 64)                50240     \n",
            "_________________________________________________________________\n",
            "dense_17 (Dense)             (None, 784)               50960     \n",
            "=================================================================\n",
            "Total params: 101,200\n",
            "Trainable params: 101,200\n",
            "Non-trainable params: 0\n",
            "_________________________________________________________________\n"
          ],
          "name": "stdout"
        }
      ]
    },
    {
      "cell_type": "code",
      "metadata": {
        "id": "oVzra6oley-G"
      },
      "source": [
        "autoencoder.compile(optimizer='Adam', loss='binary_crossentropy')"
      ],
      "execution_count": null,
      "outputs": []
    },
    {
      "cell_type": "code",
      "metadata": {
        "id": "E0gYohbEhQ85"
      },
      "source": [
        "autoencoder.fit(x_train, x_train, epochs=50, batch_size=256, shuffle=True, validation_data=(x_test,x_test))"
      ],
      "execution_count": null,
      "outputs": []
    },
    {
      "cell_type": "markdown",
      "metadata": {
        "id": "4KNtzZifqfcu"
      },
      "source": [
        "Once the model is trained we can test it's performance on the testing set"
      ]
    },
    {
      "cell_type": "code",
      "metadata": {
        "id": "AmyaNzIBifGY"
      },
      "source": [
        "encoded_img = encoder.predict(x_test)\n",
        "decoded_img = decoder.predict(encoded_img)"
      ],
      "execution_count": null,
      "outputs": []
    },
    {
      "cell_type": "code",
      "metadata": {
        "colab": {
          "base_uri": "https://localhost:8080/",
          "height": 272
        },
        "id": "onqrb8gbi0Zc",
        "outputId": "63129188-a297-42b7-ce75-933657edfbaa"
      },
      "source": [
        "i = 10 # Choose image index from x_test\n",
        "plt.figure(figsize=(10,6))\n",
        "\n",
        "# Display image from test set of endex i\n",
        "\n",
        "ax = plt.subplot(1,3,1)\n",
        "plt.imshow(x_test[i].reshape(28,28))\n",
        "plt.gray()\n",
        "ax.get_xaxis().set_visible(False)\n",
        "ax.get_yaxis().set_visible(False)\n",
        "ax.set_title('Original image')\n",
        "\n",
        "# Display image from compressed test set of endex i\n",
        "\n",
        "ax = plt.subplot(1,3,2)\n",
        "plt.imshow(encoded_img[i].reshape(8,8))\n",
        "plt.gray()\n",
        "ax.get_xaxis().set_visible(False)\n",
        "ax.get_yaxis().set_visible(False)\n",
        "ax.set_title('Compressed image')\n",
        "\n",
        "# Display image from decompressed test set of endex i\n",
        "\n",
        "ax = plt.subplot(1,3,3)\n",
        "plt.imshow(decoded_img[i].reshape(28,28))\n",
        "plt.gray()\n",
        "ax.get_xaxis().set_visible(False)\n",
        "ax.get_yaxis().set_visible(False)\n",
        "ax.set_title('Decompressed image')\n",
        "plt.tight_layout()"
      ],
      "execution_count": null,
      "outputs": [
        {
          "output_type": "display_data",
          "data": {
            "image/png": "[encoded data removed]",
            "text/plain": [
              "<Figure size 720x432 with 3 Axes>"
            ]
          },
          "metadata": {
            "tags": [],
            "needs_background": "light"
          }
        }
      ]
    }
  ]
}

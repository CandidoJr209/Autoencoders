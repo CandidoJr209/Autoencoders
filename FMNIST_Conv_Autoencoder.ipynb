{
  "nbformat": 4,
  "nbformat_minor": 0,
  "metadata": {
    "colab": {
      "name": "FMNIST_Conv_Autoencoder.ipynb",
      "provenance": [],
      "authorship_tag": "ABX9TyN+7vxKs7OhTQGfNbtD95Qo",
      "include_colab_link": true
    },
    "kernelspec": {
      "name": "python3",
      "display_name": "Python 3"
    },
    "language_info": {
      "name": "python"
    },
    "accelerator": "GPU"
  },
  "cells": [
    {
      "cell_type": "markdown",
      "metadata": {
        "id": "view-in-github",
        "colab_type": "text"
      },
      "source": [
        "<a href=\"https://colab.research.google.com/github/CandidoJr209/Autoencoders/blob/main/FMNIST_Conv_Autoencoder.ipynb\" target=\"_parent\"><img src=\"https://colab.research.google.com/assets/colab-badge.svg\" alt=\"Open In Colab\"/></a>"
      ]
    },
    {
      "cell_type": "code",
      "metadata": {
        "id": "ZhnqEoQ854kp"
      },
      "source": [
        "from keras.models import Model\n",
        "from keras.layers import Dense, Input, Conv2D, Conv2DTranspose, MaxPooling2D\n",
        "from keras.datasets import fashion_mnist\n",
        "import numpy as np\n",
        "import matplotlib.pyplot as plt"
      ],
      "execution_count": 1,
      "outputs": []
    },
    {
      "cell_type": "code",
      "metadata": {
        "id": "eFxBLM-F6JP_"
      },
      "source": [
        "(x_train, _),(x_test, _) = fashion_mnist.load_data()"
      ],
      "execution_count": 4,
      "outputs": []
    },
    {
      "cell_type": "code",
      "metadata": {
        "id": "_X7LsYbt6Rz_"
      },
      "source": [
        "plt.imshow(x_test[0], cmap='gray')"
      ],
      "execution_count": null,
      "outputs": []
    },
    {
      "cell_type": "code",
      "metadata": {
        "colab": {
          "base_uri": "https://localhost:8080/"
        },
        "id": "NDZhJYlZ7Keo",
        "outputId": "a39e76ea-1654-45d3-8602-6bcb723896c4"
      },
      "source": [
        "# Get image size\n",
        "size_image = np.prod(x_train.shape[1:])\n",
        "\n",
        "# Normalize data\n",
        "x_train = x_train/255\n",
        "x_test = x_test/255\n",
        "\n",
        "\n",
        "print(f'x_train shape = {x_train.shape}')\n",
        "print(f'x_test shape = {x_test.shape}')"
      ],
      "execution_count": 5,
      "outputs": [
        {
          "output_type": "stream",
          "text": [
            "x_train shape = (60000, 28, 28)\n",
            "x_test shape = (10000, 28, 28)\n"
          ],
          "name": "stdout"
        }
      ]
    },
    {
      "cell_type": "code",
      "metadata": {
        "id": "SsnqoDg57R6Q"
      },
      "source": [
        "encoding_dim = 64 # Define the dimentions of the compressed vector\n",
        "\n",
        "input_img = Input(shape=(28,28,1)) # Define input shape\n",
        "\n",
        "# Encode\n",
        "x = Conv2D(32,(1,1),activation='relu', padding='same')(input_img)\n",
        "x = MaxPooling2D((2,2), padding='same')(x)\n",
        "x = Conv2D(32,(1,1),activation='relu', padding='same')(x)\n",
        "x = MaxPooling2D((2,2), padding='same')(x)\n",
        "\n",
        "# Decode\n",
        "x = Conv2DTranspose(32,(3,3),strides=2,activation='relu',padding='same')(x)\n",
        "x = Conv2DTranspose(32,(3,3),strides=2,activation='relu',padding='same')(x)\n",
        "x = Conv2D(1,(3,3),activation='sigmoid',padding='same')(x)\n",
        "\n",
        "autoencoder = Model(input_img, x)"
      ],
      "execution_count": 6,
      "outputs": []
    },
    {
      "cell_type": "code",
      "metadata": {
        "colab": {
          "base_uri": "https://localhost:8080/"
        },
        "id": "_4Msn_sj-P6l",
        "outputId": "3bca440d-b27b-4b39-90d3-f9c289b95609"
      },
      "source": [
        "autoencoder.compile(optimizer=\"adam\", loss=\"categorical_crossentropy\")\n",
        "autoencoder.summary()"
      ],
      "execution_count": 7,
      "outputs": [
        {
          "output_type": "stream",
          "text": [
            "Model: \"model\"\n",
            "_________________________________________________________________\n",
            "Layer (type)                 Output Shape              Param #   \n",
            "=================================================================\n",
            "input_1 (InputLayer)         [(None, 28, 28, 1)]       0         \n",
            "_________________________________________________________________\n",
            "conv2d (Conv2D)              (None, 28, 28, 32)        64        \n",
            "_________________________________________________________________\n",
            "max_pooling2d (MaxPooling2D) (None, 14, 14, 32)        0         \n",
            "_________________________________________________________________\n",
            "conv2d_1 (Conv2D)            (None, 14, 14, 32)        1056      \n",
            "_________________________________________________________________\n",
            "max_pooling2d_1 (MaxPooling2 (None, 7, 7, 32)          0         \n",
            "_________________________________________________________________\n",
            "conv2d_transpose (Conv2DTran (None, 14, 14, 32)        9248      \n",
            "_________________________________________________________________\n",
            "conv2d_transpose_1 (Conv2DTr (None, 28, 28, 32)        9248      \n",
            "_________________________________________________________________\n",
            "conv2d_2 (Conv2D)            (None, 28, 28, 1)         289       \n",
            "=================================================================\n",
            "Total params: 19,905\n",
            "Trainable params: 19,905\n",
            "Non-trainable params: 0\n",
            "_________________________________________________________________\n"
          ],
          "name": "stdout"
        }
      ]
    },
    {
      "cell_type": "code",
      "metadata": {
        "colab": {
          "base_uri": "https://localhost:8080/"
        },
        "id": "YTXRdT8_-1gr",
        "outputId": "cf4d9064-7f92-4dff-af4b-9a03244b19a5"
      },
      "source": [
        "autoencoder.fit(x_train, x_train, epochs=50, batch_size=256, shuffle=True, validation_data=(x_test,x_test))"
      ],
      "execution_count": 8,
      "outputs": [
        {
          "output_type": "stream",
          "text": [
            "Epoch 1/50\n",
            "235/235 [==============================] - 47s 16ms/step - loss: 25.1681 - val_loss: 23.2340\n",
            "Epoch 2/50\n",
            "235/235 [==============================] - 3s 13ms/step - loss: 23.1811 - val_loss: 23.1062\n",
            "Epoch 3/50\n",
            "235/235 [==============================] - 3s 13ms/step - loss: 22.9445 - val_loss: 23.0624\n",
            "Epoch 4/50\n",
            "235/235 [==============================] - 3s 13ms/step - loss: 23.0222 - val_loss: 23.0381\n",
            "Epoch 5/50\n",
            "235/235 [==============================] - 3s 13ms/step - loss: 22.9501 - val_loss: 23.0229\n",
            "Epoch 6/50\n",
            "235/235 [==============================] - 3s 13ms/step - loss: 23.0025 - val_loss: 23.0173\n",
            "Epoch 7/50\n",
            "235/235 [==============================] - 3s 13ms/step - loss: 22.9322 - val_loss: 23.0103\n",
            "Epoch 8/50\n",
            "235/235 [==============================] - 3s 13ms/step - loss: 22.8474 - val_loss: 22.9996\n",
            "Epoch 9/50\n",
            "235/235 [==============================] - 3s 13ms/step - loss: 22.8823 - val_loss: 22.9925\n",
            "Epoch 10/50\n",
            "235/235 [==============================] - 3s 13ms/step - loss: 22.9390 - val_loss: 22.9874\n",
            "Epoch 11/50\n",
            "235/235 [==============================] - 3s 13ms/step - loss: 22.9762 - val_loss: 22.9811\n",
            "Epoch 12/50\n",
            "235/235 [==============================] - 3s 13ms/step - loss: 22.9141 - val_loss: 22.9766\n",
            "Epoch 13/50\n",
            "235/235 [==============================] - 3s 13ms/step - loss: 22.9089 - val_loss: 22.9760\n",
            "Epoch 14/50\n",
            "235/235 [==============================] - 3s 13ms/step - loss: 22.9221 - val_loss: 22.9714\n",
            "Epoch 15/50\n",
            "235/235 [==============================] - 3s 13ms/step - loss: 22.9223 - val_loss: 22.9660\n",
            "Epoch 16/50\n",
            "235/235 [==============================] - 3s 13ms/step - loss: 22.9133 - val_loss: 22.9621\n",
            "Epoch 17/50\n",
            "235/235 [==============================] - 3s 13ms/step - loss: 22.8396 - val_loss: 22.9605\n",
            "Epoch 18/50\n",
            "235/235 [==============================] - 3s 13ms/step - loss: 22.7878 - val_loss: 22.9552\n",
            "Epoch 19/50\n",
            "235/235 [==============================] - 3s 13ms/step - loss: 22.8425 - val_loss: 22.9541\n",
            "Epoch 20/50\n",
            "235/235 [==============================] - 3s 13ms/step - loss: 22.8667 - val_loss: 22.9495\n",
            "Epoch 21/50\n",
            "235/235 [==============================] - 3s 13ms/step - loss: 22.8274 - val_loss: 22.9454\n",
            "Epoch 22/50\n",
            "235/235 [==============================] - 3s 13ms/step - loss: 22.8203 - val_loss: 22.9439\n",
            "Epoch 23/50\n",
            "235/235 [==============================] - 3s 13ms/step - loss: 22.8762 - val_loss: 22.9405\n",
            "Epoch 24/50\n",
            "235/235 [==============================] - 3s 13ms/step - loss: 22.8687 - val_loss: 22.9382\n",
            "Epoch 25/50\n",
            "235/235 [==============================] - 3s 13ms/step - loss: 22.8192 - val_loss: 22.9363\n",
            "Epoch 26/50\n",
            "235/235 [==============================] - 3s 13ms/step - loss: 22.8331 - val_loss: 22.9335\n",
            "Epoch 27/50\n",
            "235/235 [==============================] - 3s 13ms/step - loss: 22.9011 - val_loss: 22.9325\n",
            "Epoch 28/50\n",
            "235/235 [==============================] - 3s 13ms/step - loss: 22.7975 - val_loss: 22.9319\n",
            "Epoch 29/50\n",
            "235/235 [==============================] - 3s 13ms/step - loss: 22.8779 - val_loss: 22.9274\n",
            "Epoch 30/50\n",
            "235/235 [==============================] - 3s 13ms/step - loss: 22.9373 - val_loss: 22.9279\n",
            "Epoch 31/50\n",
            "235/235 [==============================] - 3s 13ms/step - loss: 22.7974 - val_loss: 22.9232\n",
            "Epoch 32/50\n",
            "235/235 [==============================] - 3s 13ms/step - loss: 22.9059 - val_loss: 22.9250\n",
            "Epoch 33/50\n",
            "235/235 [==============================] - 3s 13ms/step - loss: 22.9031 - val_loss: 22.9200\n",
            "Epoch 34/50\n",
            "235/235 [==============================] - 3s 13ms/step - loss: 22.9046 - val_loss: 22.9197\n",
            "Epoch 35/50\n",
            "235/235 [==============================] - 3s 13ms/step - loss: 22.8833 - val_loss: 22.9191\n",
            "Epoch 36/50\n",
            "235/235 [==============================] - 3s 13ms/step - loss: 22.8823 - val_loss: 22.9146\n",
            "Epoch 37/50\n",
            "235/235 [==============================] - 3s 13ms/step - loss: 22.8929 - val_loss: 22.9129\n",
            "Epoch 38/50\n",
            "235/235 [==============================] - 3s 13ms/step - loss: 22.7978 - val_loss: 22.9122\n",
            "Epoch 39/50\n",
            "235/235 [==============================] - 3s 13ms/step - loss: 22.7524 - val_loss: 22.9180\n",
            "Epoch 40/50\n",
            "235/235 [==============================] - 3s 13ms/step - loss: 22.8378 - val_loss: 22.9130\n",
            "Epoch 41/50\n",
            "235/235 [==============================] - 3s 13ms/step - loss: 22.8805 - val_loss: 22.9087\n",
            "Epoch 42/50\n",
            "235/235 [==============================] - 3s 13ms/step - loss: 22.8362 - val_loss: 22.9068\n",
            "Epoch 43/50\n",
            "235/235 [==============================] - 3s 13ms/step - loss: 22.8079 - val_loss: 22.9074\n",
            "Epoch 44/50\n",
            "235/235 [==============================] - 3s 13ms/step - loss: 22.8337 - val_loss: 22.9067\n",
            "Epoch 45/50\n",
            "235/235 [==============================] - 3s 13ms/step - loss: 22.7757 - val_loss: 22.9096\n",
            "Epoch 46/50\n",
            "235/235 [==============================] - 3s 13ms/step - loss: 22.8184 - val_loss: 22.9031\n",
            "Epoch 47/50\n",
            "235/235 [==============================] - 3s 13ms/step - loss: 22.8174 - val_loss: 22.9034\n",
            "Epoch 48/50\n",
            "235/235 [==============================] - 3s 13ms/step - loss: 22.7550 - val_loss: 22.9006\n",
            "Epoch 49/50\n",
            "235/235 [==============================] - 3s 13ms/step - loss: 22.8561 - val_loss: 22.9021\n",
            "Epoch 50/50\n",
            "235/235 [==============================] - 3s 13ms/step - loss: 22.8230 - val_loss: 22.9041\n"
          ],
          "name": "stdout"
        },
        {
          "output_type": "execute_result",
          "data": {
            "text/plain": [
              "<keras.callbacks.History at 0x7f8b102f2290>"
            ]
          },
          "metadata": {
            "tags": []
          },
          "execution_count": 8
        }
      ]
    },
    {
      "cell_type": "code",
      "metadata": {
        "id": "TrhERLMfAQWK"
      },
      "source": [
        "encoded_img = autoencoder.predict(x_test)"
      ],
      "execution_count": 10,
      "outputs": []
    },
    {
      "cell_type": "code",
      "metadata": {
        "colab": {
          "base_uri": "https://localhost:8080/",
          "height": 282
        },
        "id": "h9MP17epAhva",
        "outputId": "f3ea5ff2-8652-40d2-b106-538ddea081bd"
      },
      "source": [
        "plt.imshow(encoded_img[3].reshape(28,28), cmap='gray')"
      ],
      "execution_count": 17,
      "outputs": [
        {
          "output_type": "execute_result",
          "data": {
            "text/plain": [
              "<matplotlib.image.AxesImage at 0x7f8a1b9ed8d0>"
            ]
          },
          "metadata": {
            "tags": []
          },
          "execution_count": 17
        },
        {
          "output_type": "display_data",
          "data": {
            "image/png": "[encoded data removed]",
            "text/plain": [
              "<Figure size 432x288 with 1 Axes>"
            ]
          },
          "metadata": {
            "tags": [],
            "needs_background": "light"
          }
        }
      ]
    }
  ]
}